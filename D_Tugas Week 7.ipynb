{
 "cells": [
  {
   "cell_type": "code",
   "execution_count": 2,
   "metadata": {},
   "outputs": [
    {
     "data": {
      "text/plain": [
       "[[1, 2], [3, 6]]"
      ]
     },
     "execution_count": 2,
     "metadata": {},
     "output_type": "execute_result"
    }
   ],
   "source": [
    "#Buatlah sebuah fungsi untuk membuat matrix berdasarkan input dari user\n",
    "\n",
    "def create_matrix(baris,kolom):\n",
    "    matrix = []\n",
    "\n",
    "    #Tulis kode kamu disini\n",
    "def create_matrix(baris, kolom):\n",
    "    matrix = []\n",
    "\n",
    "    for i in range(baris):\n",
    "        row = []\n",
    "        for j in range(kolom):\n",
    "            elemen = int(input(f\"Masukkan elemen baris {i+1} kolom {j+1}: \"))\n",
    "            row.append(elemen)\n",
    "        matrix.append(row)\n",
    "\n",
    "    return matrix\n",
    "\n",
    "\n",
    "baris = int(input('Masukkan Jumlah Baris:\\t'))\n",
    "kolom = int(input('Masukkan Jumlah Kolom:\\t'))\n",
    "\n",
    "create_matrix(baris,kolom)"
   ]
  },
  {
   "cell_type": "code",
   "execution_count": 1,
   "metadata": {},
   "outputs": [
    {
     "name": "stdout",
     "output_type": "stream",
     "text": [
      "Inverse matrix:\n",
      "[-0.0, -0.0]\n",
      "[-0.0, -0.0]\n"
     ]
    }
   ],
   "source": [
    "#Buatlah sebuah fungsi untuk mencari invers matrix berdasarkan input matrix dari user\n",
    "\n",
    "def invers():\n",
    "    det = []\n",
    "\n",
    "def create_matrix(baris, kolom):\n",
    "    matrix = []\n",
    "    for i in range(baris):\n",
    "        row = []\n",
    "        for j in range(kolom):\n",
    "            element = int(input(f\"Masukkan elemen matriks [{i+1}][{j+1}]: \"))\n",
    "            row.append(element)\n",
    "        matrix.append(row)\n",
    "    return matrix\n",
    "\n",
    "def hitung_determinan(matriks):\n",
    "    # Base case untuk matriks 2x2\n",
    "    if len(matriks) == 2:\n",
    "        det = (matriks[0][0] * matriks[1][1]) - (matriks[0][1] * matriks[1][0])\n",
    "        return det\n",
    "\n",
    "    det = 0\n",
    "    for col in range(len(matriks)):\n",
    "        submatrix = []\n",
    "        for i in range(1, len(matriks)):\n",
    "            subrow = []\n",
    "            for j in range(len(matriks)):\n",
    "                if j != col:\n",
    "                    subrow.append(matriks[i][j])\n",
    "            submatrix.append(subrow)\n",
    "        det += ((-1) ** col) * matriks[0][col] * hitung_determinan(submatrix)\n",
    "    return det\n",
    "\n",
    "def transpose(matriks):\n",
    "    transposed = []\n",
    "    for j in range(len(matriks[0])):\n",
    "        row = []\n",
    "        for i in range(len(matriks)):\n",
    "            row.append(matriks[i][j])\n",
    "        transposed.append(row)\n",
    "    return transposed\n",
    "\n",
    "def invers():\n",
    "    baris = int(input('Masukkan Jumlah Baris: '))\n",
    "    kolom = int(input('Masukkan Jumlah Kolom: '))\n",
    "\n",
    "    matriks = create_matrix(baris, kolom)\n",
    "\n",
    "    det = hitung_determinan(matriks)\n",
    "    if det == 0:\n",
    "        print(\"Matriks tidak memiliki invers.\")\n",
    "        return\n",
    "\n",
    "    adjoint = []\n",
    "    for i in range(len(matriks)):\n",
    "        row = []\n",
    "        for j in range(len(matriks)):\n",
    "            submatrix = []\n",
    "            for m in range(len(matriks)):\n",
    "                if m != i:\n",
    "                    subrow = []\n",
    "                    for n in range(len(matriks)):\n",
    "                        if n != j:\n",
    "                            subrow.append(matriks[m][n])\n",
    "                    submatrix.append(subrow)\n",
    "            subdet = hitung_determinan(submatrix)\n",
    "            cofactor = (-1) ** (i + j) * subdet\n",
    "            row.append(cofactor)\n",
    "        adjoint.append(row)\n",
    "\n",
    "    inverse = []\n",
    "    for i in range(len(adjoint)):\n",
    "        row = []\n",
    "        for j in range(len(adjoint)):\n",
    "            element = adjoint[i][j] / det\n",
    "            row.append(element)\n",
    "        inverse.append(row)\n",
    "\n",
    "    return inverse\n",
    "\n",
    "matriks_invers = invers()\n",
    "print(\"Inverse matrix:\")\n",
    "for row in matriks_invers:\n",
    "    print(row)"
   ]
  },
  {
   "cell_type": "code",
   "execution_count": 6,
   "metadata": {},
   "outputs": [
    {
     "name": "stdout",
     "output_type": "stream",
     "text": [
      "Matriks input adalah : [[2, 1, 5], [3, 2, 6]]\n",
      "Hasil bagi matriks input dengan 3 adalah :\n"
     ]
    },
    {
     "data": {
      "text/plain": [
       "[[0.6666666666666666, 0.3333333333333333, 1.6666666666666667],\n",
       " [1.0, 0.6666666666666666, 2.0]]"
      ]
     },
     "execution_count": 6,
     "metadata": {},
     "output_type": "execute_result"
    }
   ],
   "source": [
    "#Buatlah Fungsi untuk melakukan pembagian matrix antar matrix berdasarkan input user menggunakan nested loop\n",
    "\n",
    "def bagi_matrix(matrix1, skalar):\n",
    "    hasil = []\n",
    "    baris = int(input(\"Masukkan Jumlah Baris :\\t\"))\n",
    "    kolom = int(input(\"Masukkan Jumlah Kolom :\\t\"))\n",
    "    matrix1 = create_matrix(baris,kolom)\n",
    "    print('Matriks input adalah :', matrix1)\n",
    "    print(f'Hasil bagi matriks input dengan {skalar} adalah :')\n",
    "    for i in matrix1:\n",
    "        isi = []\n",
    "        for j in i :\n",
    "            k = j/skalar\n",
    "            isi.append(k)\n",
    "        hasil.append(isi)\n",
    "    return hasil\n",
    "\n",
    "\n",
    "matrix1 = []\n",
    "skalar = int(input('Matrix dibagi berapa?\\t'))\n",
    "\n",
    "\n",
    "bagi_matrix(matrix1, skalar)"
   ]
  }
 ],
 "metadata": {
  "kernelspec": {
   "display_name": "Python 3",
   "language": "python",
   "name": "python3"
  },
  "language_info": {
   "codemirror_mode": {
    "name": "ipython",
    "version": 3
   },
   "file_extension": ".py",
   "mimetype": "text/x-python",
   "name": "python",
   "nbconvert_exporter": "python",
   "pygments_lexer": "ipython3",
   "version": "3.11.2"
  },
  "orig_nbformat": 4
 },
 "nbformat": 4,
 "nbformat_minor": 2
}
